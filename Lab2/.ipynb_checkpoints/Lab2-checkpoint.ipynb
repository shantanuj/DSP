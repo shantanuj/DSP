{
 "cells": [
  {
   "cell_type": "code",
   "execution_count": null,
   "metadata": {},
   "outputs": [],
   "source": [
    "#Question 1a\n",
    "\n",
    "'''Convolution equation represents the overall response/output of a system given the input.\n",
    "\n",
    "This works cause the input can be represented as a set of scaled and shifted discrete dirac delta functions '''\n",
    "\n",
    "''' so x[n] from n=-2 to 2 = s1.dd(n-2) + s2.dd(n-1) + s3.dd(n).... and so forth'''\n",
    "\n",
    "'''We also know that y[n]= response of system for dirac delta is = h[n]\n",
    "By time invariance and linearity property, we have y[n] = scaled set of shifted h[n]'''"
   ]
  },
  {
   "cell_type": "code",
   "execution_count": 3,
   "metadata": {},
   "outputs": [
    {
     "data": {
      "text/plain": [
       "\"Sinusoids frequency remains unchanged, the amplitude and phase may be altered. It's an eigen function\""
      ]
     },
     "execution_count": 3,
     "metadata": {},
     "output_type": "execute_result"
    }
   ],
   "source": [
    "#Q1b)\n",
    "'''Sinusoids frequency remains unchanged, the amplitude and phase may be altered. It's an eigen function'''"
   ]
  },
  {
   "cell_type": "code",
   "execution_count": 112,
   "metadata": {},
   "outputs": [],
   "source": [
    "import numpy as np\n",
    "import matplotlib.pyplot as plt\n",
    "import scipy.io.wavfile  as wavfile\n",
    "import scipy\n",
    "#import winsound\n",
    "from scipy import signal\n",
    "\n",
    "'''Auxiliary functions'''\n",
    "# The input is a float array (should have dynamic value from -1.00 to +1.00\n",
    "def fnNormalizeFloatTo16Bit(yFloat):\n",
    "    y_16bit = [int(s*32767) for s in yFloat]\n",
    "    return(np.array(y_16bit, dtype='int16'))\n",
    "\n",
    "# The input is a float array (should have dynamic value from -1.00 to +1.00\n",
    "def fnNormalize16BitToFloat(y_16bit):\n",
    "    yFloat = [float(s/32767.0) for s in y_16bit]\n",
    "    return(np.array(yFloat, dtype='float'))\n"
   ]
  },
  {
   "cell_type": "code",
   "execution_count": 131,
   "metadata": {},
   "outputs": [],
   "source": [
    "#x[n] = 1*cos(0.1*np.pi*n) # we cover 0.1*2pi radians per sample or 0.1 cycles per sample. THus, 5cycles of the signal corresponds to 5*20 points (or 20 for each cycle)\n",
    "#x[n] = 1*cos(omega*n + phi)\n",
    "def sketch_signal(x,y, title = \"Plot\", x_label=\"Sample instant\", y_label=\"Sample amplitude\", scatter = True, grid = True):\n",
    "    plt.figure(1)\n",
    "   \n",
    "    plt.plot(x,y)\n",
    "    #plt.plot(x, )\n",
    "    if(scatter):\n",
    "        plt.scatter(x,y)\n",
    "    plt.title(title)\n",
    "    #plt.x_label(x_label)\n",
    "    #plt.y_label(y_label)\n",
    "    \n",
    "    if(grid):\n",
    "        plt.grid()\n",
    "    #plt.show()\n",
    "    return plt\n",
    "\n",
    "def sketch_signals(t1,y,t2,z, x_label =\"Sample instant\", y_label = \"Input and Output Signal\", scatter = True, grid = True):\n",
    "    plt.figure(2)\n",
    "    plt.plot(t1,y, 'r')\n",
    "    plt.plot(t2,z, 'g')\n",
    "    plt.title(\"Signals\")\n",
    "    #plt.x_label(x_label)\n",
    "    #plt.y_label(y_label)\n",
    "    if(grid):\n",
    "        plt.grid()\n",
    "    return plt\n",
    "\n",
    "def continousTimeSinusoid(A, omega, cycles, phase_shift = 0):\n",
    "    '''Output: sample_instant, amplitude '''\n",
    "    \n",
    "    #how do we generate a continous time signal -> this won't be possible as that would mean infinite values\n",
    "    #this is just the cos / sine function with some phase shift\n",
    "    #Acos(2*pi*f*t + phi)\n",
    "    #so we generate the samples we need based on sampling frequency\n",
    "    num_cyles_per_sample = omega/(2*np.pi)\n",
    "    \n",
    "    samples_for_1cycle = 1/num_cyles_per_sample\n",
    "    #print(samples_for_1cycle)\n",
    "    upper_range_sample_steps = samples_for_1cycle*cycles\n",
    "    sample_steps = np.arange(0, upper_range_sample_steps)\n",
    "    sample_steps = sample_steps.reshape(sample_steps.shape[0])#,1)\n",
    "    \n",
    "    #time_steps = np.arange(start_time, end_time, 1.0/freq_sampling) #Step size in time duration = 1/sampling frequency\n",
    "    #time_steps = time_steps.reshape(time_steps.shape[0],1)\n",
    "    #sample_step = np.arange(0,time_steps.shape[0]).reshape(time_steps.shape[0],1)\n",
    "    #cont_signal = A*np.cos(2*np.pi*signal_freq*time_steps + phase_phi)\n",
    "    signal = A*np.cos(omega*sample_steps+ phase_shift)\n",
    "    #concatenated_tensor = np.concatenate((sample_steps, signal), axis =1)\n",
    "    return [sample_steps,signal]#concatenated_tensor\n",
    " \n"
   ]
  },
  {
   "cell_type": "markdown",
   "metadata": {},
   "source": [
    "# Q1 and Q2"
   ]
  },
  {
   "cell_type": "markdown",
   "metadata": {},
   "source": [
    "### #WHICH CONVOLUTION DO WE USE?-> remember what is the normal convolution-> just scaled and shifted outs"
   ]
  },
  {
   "cell_type": "code",
   "execution_count": 132,
   "metadata": {},
   "outputs": [],
   "source": [
    "sample_steps, signal = continousTimeSinusoid(1, 0.1*np.pi, 5)"
   ]
  },
  {
   "cell_type": "code",
   "execution_count": 133,
   "metadata": {},
   "outputs": [],
   "source": [
    "#Convolving input and output\n",
    "sample_steps= [0,1,2]\n",
    "h = np.array([0.2,0.3,-0.5])\n",
    "y = np.convolve(signal[sample_steps], h)#, 'same')\n",
    "t2 = list(range(0,len(y)))"
   ]
  },
  {
   "cell_type": "code",
   "execution_count": 134,
   "metadata": {},
   "outputs": [
    {
     "data": {
      "text/plain": [
       "<module 'matplotlib.pyplot' from '/usr/local/lib/python2.7/dist-packages/matplotlib/pyplot.pyc'>"
      ]
     },
     "execution_count": 134,
     "metadata": {},
     "output_type": "execute_result"
    },
    {
     "data": {
      "image/png": "[encoded data removed]",
      "text/plain": [
       "<matplotlib.figure.Figure at 0x7f0200e56dd0>"
      ]
     },
     "metadata": {},
     "output_type": "display_data"
    }
   ],
   "source": [
    "sketch_signals(sample_steps, signal[sample_steps], t2,y)"
   ]
  },
  {
   "cell_type": "code",
   "execution_count": 135,
   "metadata": {},
   "outputs": [
    {
     "data": {
      "text/plain": [
       "'Q2: \\nLTI system: coefficients b[m] are represented by signal input, and the input x[n-m] is represented by the impulse response. \\nSpecial case of impulse response as finite duration is an Nth-order discrete-time FIR filter which lasts exactly N + 1 samples (wiki)\\n'"
      ]
     },
     "execution_count": 135,
     "metadata": {},
     "output_type": "execute_result"
    }
   ],
   "source": [
    "'''Q2: \n",
    "LTI system: coefficients b[m] are represented by signal input, and the input x[n-m] is represented by the impulse response. \n",
    "Special case of impulse response as finite duration is an Nth-order discrete-time FIR filter which lasts exactly N + 1 samples (wiki)\n",
    "'''"
   ]
  },
  {
   "cell_type": "markdown",
   "metadata": {},
   "source": [
    "# Q3: Implementing convolution and an echo filter"
   ]
  },
  {
   "cell_type": "code",
   "execution_count": 136,
   "metadata": {},
   "outputs": [
    {
     "data": {
      "text/plain": [
       "<module 'matplotlib.pyplot' from '/usr/local/lib/python2.7/dist-packages/matplotlib/pyplot.pyc'>"
      ]
     },
     "execution_count": 136,
     "metadata": {},
     "output_type": "execute_result"
    },
    {
     "data": {
      "image/png": "[encoded data removed]",
      "text/plain": [
       "<matplotlib.figure.Figure at 0x7f0200f785d0>"
      ]
     },
     "metadata": {},
     "output_type": "display_data"
    }
   ],
   "source": [
    "'''Q3:\n",
    "Echo filter: Impulse response is quite sparse\n",
    "The room impulse response is more dense--> more outputs spaced closer together\n",
    "'''\n",
    "impulseH = np.zeros(8000)\n",
    "impulseH[1] = 1\n",
    "impulseH[4000] = 0.5\n",
    "impulseH[7900] = 0.3\n",
    "sketch_signal(np.arange(8000),impulseH, title=\"Impulse response\")"
   ]
  },
  {
   "cell_type": "code",
   "execution_count": 160,
   "metadata": {},
   "outputs": [],
   "source": [
    "'''System class'''\n",
    "class system(object):\n",
    "    def __init__(self, impulse_response, convolve_func = np.convolve):\n",
    "        self.impulse_response = impulse_response\n",
    "        self.convolve_func = convolve_func\n",
    "        \n",
    "    def system_out(self, input_, custom_convolve=None):\n",
    "        if(custom_convolve is not None):\n",
    "            return custom_convolve(input_, self.impulse_response)\n",
    "        else:\n",
    "            return self.convolve_func(input_, self.impulse_response)\n",
    "                        \n"
   ]
  },
  {
   "cell_type": "code",
   "execution_count": 161,
   "metadata": {},
   "outputs": [],
   "source": [
    "'''Convolution of a signal'''\n",
    "\n",
    "def convolve(input_signal, impulse_response):\n",
    "    num_input_samples= input_signal.shape[0]\n",
    "    num_response_steps = impulse_response.shape[0]\n",
    "    output_convolve = np.zeros(num_input_samples+num_response_steps-1)\n",
    "    \n",
    "    for sample_step in range(num_input_samples):\n",
    "        output_convolve[sample_step:sample_step+num_response_steps] += input_signal[sample_step] * impulse_response\n",
    "        \n",
    "    return output_convolve"
   ]
  },
  {
   "cell_type": "code",
   "execution_count": 162,
   "metadata": {},
   "outputs": [
    {
     "data": {
      "text/plain": [
       "array([ True,  True,  True,  True,  True], dtype=bool)"
      ]
     },
     "execution_count": 162,
     "metadata": {},
     "output_type": "execute_result"
    }
   ],
   "source": [
    "sample_steps= [0,1,2]\n",
    "h = np.array([0.2,0.3,-0.5])\n",
    "y = np.convolve(signal[sample_steps], h)\n",
    "convolve(signal[sample_steps],h) == y"
   ]
  },
  {
   "cell_type": "code",
   "execution_count": 163,
   "metadata": {},
   "outputs": [],
   "source": [
    "'''Initialize system'''\n",
    "q3_system = system(impulseH, convolve)"
   ]
  },
  {
   "cell_type": "code",
   "execution_count": 164,
   "metadata": {},
   "outputs": [],
   "source": [
    "'''Loading input wave file'''\n",
    "wave_file_path = \"./wav_files/testIp_16bit.wav\"\n",
    "#Play the file\n",
    "#winsound.PlaySound(wave_file_path, winsound.SND_FILENAME) \n",
    "\n",
    "#Read file\n",
    "[Fs, sampleX_16bit] = wavfile.read(wave_file_path)\n",
    "#Make floating point\n",
    "sampleX_float = fnNormalize16BitToFloat(sampleX_16bit)\n",
    "\n",
    "\n"
   ]
  },
  {
   "cell_type": "code",
   "execution_count": 169,
   "metadata": {},
   "outputs": [
    {
     "data": {
      "text/plain": [
       "array([ True,  True,  True, ...,  True,  True,  True], dtype=bool)"
      ]
     },
     "execution_count": 169,
     "metadata": {},
     "output_type": "execute_result"
    }
   ],
   "source": [
    "y_n = q3_system.system_out(sampleX_float)\n",
    "#below to check convolve again\n",
    "q3_system.system_out(sampleX_float, custom_convolve=np.convolve) == y_n "
   ]
  },
  {
   "cell_type": "code",
   "execution_count": 170,
   "metadata": {},
   "outputs": [
    {
     "ename": "NameError",
     "evalue": "name 'float_to_16BitInt' is not defined",
     "output_type": "error",
     "traceback": [
      "\u001b[0;31m---------------------------------------------------------------------------\u001b[0m",
      "\u001b[0;31mNameError\u001b[0m                                 Traceback (most recent call last)",
      "\u001b[0;32m<ipython-input-170-171fa1158a82>\u001b[0m in \u001b[0;36m<module>\u001b[0;34m()\u001b[0m\n\u001b[1;32m      1\u001b[0m \u001b[0;34m'''Store processed input'''\u001b[0m\u001b[0;34m\u001b[0m\u001b[0m\n\u001b[0;32m----> 2\u001b[0;31m \u001b[0my_dtmf_16bit\u001b[0m \u001b[0;34m=\u001b[0m \u001b[0mfloat_to_16BitInt\u001b[0m\u001b[0;34m(\u001b[0m\u001b[0my_n\u001b[0m\u001b[0;34m)\u001b[0m\u001b[0;34m\u001b[0m\u001b[0m\n\u001b[0m\u001b[1;32m      3\u001b[0m \u001b[0mcode\u001b[0m \u001b[0;34m=\u001b[0m \u001b[0;34m\"h_normal\"\u001b[0m\u001b[0;34m\u001b[0m\u001b[0m\n\u001b[1;32m      4\u001b[0m \u001b[0mwavfile\u001b[0m\u001b[0;34m.\u001b[0m\u001b[0mwrite\u001b[0m\u001b[0;34m(\u001b[0m\u001b[0;34m'outputs/q3{}.wav'\u001b[0m\u001b[0;34m.\u001b[0m\u001b[0mformat\u001b[0m\u001b[0;34m(\u001b[0m\u001b[0mcode\u001b[0m\u001b[0;34m)\u001b[0m\u001b[0;34m,\u001b[0m \u001b[0my_dtmf_16bit\u001b[0m\u001b[0;34m)\u001b[0m\u001b[0;34m\u001b[0m\u001b[0m\n",
      "\u001b[0;31mNameError\u001b[0m: name 'float_to_16BitInt' is not defined"
     ]
    }
   ],
   "source": [
    "'''Store processed input'''\n",
    "y_dtmf_16bit = float_to_16BitInt(y_n)\n",
    "code = \"h_normal\"\n",
    "wavfile.write('outputs/q3{}.wav'.format(code), y_dtmf_16bit)\n"
   ]
  },
  {
   "cell_type": "code",
   "execution_count": null,
   "metadata": {},
   "outputs": [],
   "source": [
    "'''Less expensive convolution-> for sparse impulse response'''\n",
    "\n"
   ]
  },
  {
   "cell_type": "markdown",
   "metadata": {},
   "source": [
    "## Q4"
   ]
  },
  {
   "cell_type": "code",
   "execution_count": 172,
   "metadata": {},
   "outputs": [
    {
     "data": {
      "text/plain": [
       "29333"
      ]
     },
     "execution_count": 172,
     "metadata": {},
     "output_type": "execute_result"
    }
   ],
   "source": [
    "len(sampleX_float)"
   ]
  },
  {
   "cell_type": "code",
   "execution_count": null,
   "metadata": {},
   "outputs": [],
   "source": []
  }
 ],
 "metadata": {
  "kernelspec": {
   "display_name": "Python 2",
   "language": "python",
   "name": "python2"
  },
  "language_info": {
   "codemirror_mode": {
    "name": "ipython",
    "version": 2
   },
   "file_extension": ".py",
   "mimetype": "text/x-python",
   "name": "python",
   "nbconvert_exporter": "python",
   "pygments_lexer": "ipython2",
   "version": "2.7.12"
  }
 },
 "nbformat": 4,
 "nbformat_minor": 2
}
