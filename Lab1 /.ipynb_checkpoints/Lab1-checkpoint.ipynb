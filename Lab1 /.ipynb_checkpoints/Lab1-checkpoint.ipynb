{
 "cells": [
  {
   "cell_type": "markdown",
   "metadata": {},
   "source": [
    "#Goal of lab:\n",
    "1. Generate and manipulate signals\n",
    "2. Visualize signals\n",
    "3. Save signals to listen to them "
   ]
  },
  {
   "cell_type": "code",
   "execution_count": 1,
   "metadata": {},
   "outputs": [],
   "source": [
    "import numpy as np\n",
    "import matplotlib.pyplot as plt\n",
    "import scipy.io.wavfile as wavfile\n",
    "#import winsound\n",
    "#from mlp"
   ]
  },
  {
   "cell_type": "code",
   "execution_count": 33,
   "metadata": {},
   "outputs": [],
   "source": [
    "'''Create continous time sinusiod'''\n",
    "def continousTimeSinusoid(A, signal_freq, phase_phi, freq_sampling, start_time, end_time):\n",
    "    #how do we generate a continous time signal -> this won't be possible as that would mean infinite values\n",
    "    #this is just the cos / sine function with some phase shift\n",
    "    #Acos(2*pi*f*t + phi)\n",
    "    #so we generate the samples we need based on sampling frequency\n",
    "    time_steps = np.arange(start_time, end_time, 1.0/freq_sampling) #Step size in time duration = 1/sampling frequency\n",
    "    time_steps = time_steps.reshape(time_steps.shape[0],1)\n",
    "    sample_step = np.array(range(0, ))\n",
    "    cont_signal = A*np.cos(2*np.pi*signal_freq*time_steps + phase_phi)\n",
    "    concatenated_tensor = np.concatenate((time_steps, cont_signal), axis =1)\n",
    "    return concatenated_tensor\n",
    "\n",
    "def sketch_signal():\n",
    "    None"
   ]
  },
  {
   "cell_type": "code",
   "execution_count": 34,
   "metadata": {},
   "outputs": [],
   "source": [
    "q3_1 = continousTimeSinusoid(10, 1000, 0, 16000, 0, 0.5)"
   ]
  },
  {
   "cell_type": "code",
   "execution_count": 35,
   "metadata": {},
   "outputs": [
    {
     "data": {
      "text/plain": [
       "array([[  0.00000000e+00,   1.00000000e+01],\n",
       "       [  6.25000000e-05,   9.23879533e+00],\n",
       "       [  1.25000000e-04,   7.07106781e+00],\n",
       "       ..., \n",
       "       [  4.99812500e-01,   3.82683432e+00],\n",
       "       [  4.99875000e-01,   7.07106781e+00],\n",
       "       [  4.99937500e-01,   9.23879533e+00]])"
      ]
     },
     "execution_count": 35,
     "metadata": {},
     "output_type": "execute_result"
    }
   ],
   "source": [
    "q3_1"
   ]
  },
  {
   "cell_type": "code",
   "execution_count": null,
   "metadata": {},
   "outputs": [],
   "source": [
    "def gen_DTMFseq(code, freqs, durTone):\n",
    "    '''\n",
    "    A DTMF sequence consists of two frequencies -> dual tone multi frequency\n",
    "    '''"
   ]
  },
  {
   "cell_type": "code",
   "execution_count": 23,
   "metadata": {},
   "outputs": [],
   "source": [
    "def gen_discrete_time_polar_signal(A, omega, phase_shift, start_sample_n, end_sample_n):\n",
    "    '''(Ae^(i(angle)))^n'''\n",
    "    samples = np.arange(start_sample_n, end_sample_n)\n",
    "    samples = samples.reshape(samples.shape[0],1)\n",
    "    \n",
    "    magnitude = np.power(A, samples)\n",
    "    exp_real_val = np.cos(omega*samples + phase_shift)#cosine\n",
    "    exp_img_val = np.sin(omega*samples + phase_shift) #sin\n",
    "    concatentated_tensor = np.concatenate((samples, magnitude*exp_real_val, magnitude*exp_img_val), axis =1)\n",
    "    \n",
    "    #coordinate_tuple = n, magnitude*exp_real_val, magnitude*exp_img_val\n",
    "    return concatentated_tensor"
   ]
  },
  {
   "cell_type": "code",
   "execution_count": 24,
   "metadata": {},
   "outputs": [
    {
     "data": {
      "text/plain": [
       "array([[  0.00000000e+00,   1.00000000e+00,   0.00000000e+00],\n",
       "       [  1.00000000e+00,   9.35567365e-01,   1.64965769e-01],\n",
       "       [  2.00000000e+00,   8.48072590e-01,   3.08673179e-01],\n",
       "       [  3.00000000e+00,   7.42508531e-01,   4.28687500e-01],\n",
       "       [  4.00000000e+00,   6.23947987e-01,   5.23554526e-01],\n",
       "       [  5.00000000e+00,   4.97376799e-01,   5.92750587e-01],\n",
       "       [  6.00000000e+00,   3.67545945e-01,   6.36608251e-01],\n",
       "       [  7.00000000e+00,   2.38845422e-01,   6.56222404e-01],\n",
       "       [  8.00000000e+00,   1.15201749e-01,   6.53341584e-01],\n",
       "       [  9.00000000e+00,   3.85916461e-17,   6.30249410e-01],\n",
       "       [  1.00000000e+01,  -1.03969578e-01,   5.89640780e-01],\n",
       "       [  1.10000000e+01,  -1.94541089e-01,   5.34497249e-01],\n",
       "       [  1.20000000e+01,  -2.70180044e-01,   4.67965563e-01],\n",
       "       [  1.30000000e+01,  -3.29969931e-01,   3.93242850e-01],\n",
       "       [  1.40000000e+01,  -3.73580708e-01,   3.13471434e-01],\n",
       "       [  1.50000000e+01,  -4.01221975e-01,   2.31645615e-01],\n",
       "       [  1.60000000e+01,  -4.13583783e-01,   1.50532186e-01],\n",
       "       [  1.70000000e+01,  -4.11768148e-01,   7.26058343e-02],\n",
       "       [  1.80000000e+01,  -3.97214318e-01,   4.86447244e-17],\n",
       "       [  1.90000000e+01,  -3.71620753e-01,  -6.55267654e-02],\n",
       "       [  2.00000000e+01,  -3.36866576e-01,  -1.22609407e-01],\n",
       "       [  2.10000000e+01,  -2.94935020e-01,  -1.70280813e-01],\n",
       "       [  2.20000000e+01,  -2.47841074e-01,  -2.07963354e-01],\n",
       "       [  2.30000000e+01,  -1.97565186e-01,  -2.35449021e-01],\n",
       "       [  2.40000000e+01,  -1.45994512e-01,  -2.52869913e-01],\n",
       "       [  2.50000000e+01,  -9.48728216e-02,  -2.60660935e-01],\n",
       "       [  2.60000000e+01,  -4.57597842e-02,  -2.59516632e-01],\n",
       "       [  2.70000000e+01,  -4.59874632e-17,  -2.50344090e-01],\n",
       "       [  2.80000000e+01,   4.12982052e-02,  -2.34213760e-01],\n",
       "       [  2.90000000e+01,   7.72745061e-02,  -2.12309961e-01],\n",
       "       [  3.00000000e+01,   1.07319382e-01,  -1.85882622e-01],\n",
       "       [  3.10000000e+01,   1.31068781e-01,  -1.56201691e-01],\n",
       "       [  3.20000000e+01,   1.48391606e-01,  -1.24515342e-01],\n",
       "       [  3.30000000e+01,   1.59371113e-01,  -9.20129551e-02],\n",
       "       [  3.40000000e+01,   1.64281400e-01,  -5.97935398e-02],\n",
       "       [  3.50000000e+01,   1.63560204e-01,  -2.88400770e-02],\n",
       "       [  3.60000000e+01,   1.57779215e-01,  -3.86447621e-17],\n",
       "       [  3.70000000e+01,   1.47613084e-01,   2.60281695e-02],\n",
       "       [  3.80000000e+01,   1.33808227e-01,   4.87022119e-02],\n",
       "       [  3.90000000e+01,   1.17152413e-01,   6.76379771e-02],\n",
       "       [  4.00000000e+01,   9.84460234e-02,   8.26060219e-02],\n",
       "       [  4.10000000e+01,   7.84757208e-02,   9.35237222e-02],\n",
       "       [  4.20000000e+01,   5.79911107e-02,   1.00443550e-01],\n",
       "       [  4.30000000e+01,   3.76848432e-02,   1.03538256e-01],\n",
       "       [  4.40000000e+01,   1.81764415e-02,   1.03083722e-01],\n",
       "       [  4.50000000e+01,   3.04447981e-17,   9.94402570e-02],\n",
       "       [  4.60000000e+01,  -1.64042384e-02,   9.30330592e-02],\n",
       "       [  4.70000000e+01,  -3.06945403e-02,   8.43325563e-02],\n",
       "       [  4.80000000e+01,  -4.26287952e-02,   7.38352391e-02],\n",
       "       [  4.90000000e+01,  -5.20623966e-02,   6.20455481e-02]])"
      ]
     },
     "execution_count": 24,
     "metadata": {},
     "output_type": "execute_result"
    }
   ],
   "source": [
    "gen_discrete_time_polar_signal(0.95, np.pi/18, 0, 0, 50)"
   ]
  },
  {
   "cell_type": "code",
   "execution_count": 21,
   "metadata": {},
   "outputs": [
    {
     "data": {
      "text/plain": [
       "array([[  1.        ,   3.        ,   0.90929743],\n",
       "       [  2.        ,   9.        ,  -0.7568025 ],\n",
       "       [  3.        ,  27.        ,  -0.2794155 ]])"
      ]
     },
     "execution_count": 21,
     "metadata": {},
     "output_type": "execute_result"
    }
   ],
   "source": [
    "np.concatenate((x, y,z), axis =1)"
   ]
  },
  {
   "cell_type": "code",
   "execution_count": 29,
   "metadata": {},
   "outputs": [],
   "source": [
    "def gen_W_signal(k, start_n, end_n):\n",
    "    samples = np.arange(start_n, end_n)\n",
    "    N = samples.shape[0]\n",
    "    samples = samples.reshape(N,1)\n",
    "    exp_real_val = np.cos(2*np.pi*k*samples/N)\n",
    "    exp_img_val = np.sin(2*np.pi*k*samples/N)\n",
    "    concatenated_tensor = np.concatenate((samples, exp_real_val, exp_img_val), axis =1)\n",
    "    return concatenated_tensor"
   ]
  },
  {
   "cell_type": "code",
   "execution_count": 30,
   "metadata": {},
   "outputs": [
    {
     "data": {
      "text/plain": [
       "array([[  0.00000000e+00,   1.00000000e+00,   0.00000000e+00],\n",
       "       [  1.00000000e+00,   9.23879533e-01,   3.82683432e-01],\n",
       "       [  2.00000000e+00,   7.07106781e-01,   7.07106781e-01],\n",
       "       [  3.00000000e+00,   3.82683432e-01,   9.23879533e-01],\n",
       "       [  4.00000000e+00,   6.12323400e-17,   1.00000000e+00],\n",
       "       [  5.00000000e+00,  -3.82683432e-01,   9.23879533e-01],\n",
       "       [  6.00000000e+00,  -7.07106781e-01,   7.07106781e-01],\n",
       "       [  7.00000000e+00,  -9.23879533e-01,   3.82683432e-01],\n",
       "       [  8.00000000e+00,  -1.00000000e+00,   1.22464680e-16],\n",
       "       [  9.00000000e+00,  -9.23879533e-01,  -3.82683432e-01],\n",
       "       [  1.00000000e+01,  -7.07106781e-01,  -7.07106781e-01],\n",
       "       [  1.10000000e+01,  -3.82683432e-01,  -9.23879533e-01],\n",
       "       [  1.20000000e+01,  -1.83697020e-16,  -1.00000000e+00],\n",
       "       [  1.30000000e+01,   3.82683432e-01,  -9.23879533e-01],\n",
       "       [  1.40000000e+01,   7.07106781e-01,  -7.07106781e-01],\n",
       "       [  1.50000000e+01,   9.23879533e-01,  -3.82683432e-01]])"
      ]
     },
     "execution_count": 30,
     "metadata": {},
     "output_type": "execute_result"
    }
   ],
   "source": [
    "gen_W_signal(1, 0, 16)"
   ]
  },
  {
   "cell_type": "code",
   "execution_count": null,
   "metadata": {},
   "outputs": [],
   "source": []
  }
 ],
 "metadata": {
  "kernelspec": {
   "display_name": "Python 2",
   "language": "python",
   "name": "python2"
  },
  "language_info": {
   "codemirror_mode": {
    "name": "ipython",
    "version": 2
   },
   "file_extension": ".py",
   "mimetype": "text/x-python",
   "name": "python",
   "nbconvert_exporter": "python",
   "pygments_lexer": "ipython2",
   "version": "2.7.12"
  }
 },
 "nbformat": 4,
 "nbformat_minor": 2
}
